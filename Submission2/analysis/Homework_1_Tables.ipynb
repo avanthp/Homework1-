{
 "cells": [
  {
   "cell_type": "markdown",
   "id": "e70a2e45",
   "metadata": {},
   "source": [
    "Homework #1 By Avanth Pakanati\n"
   ]
  },
  {
   "cell_type": "markdown",
   "id": "b145ab8e",
   "metadata": {},
   "source": [
    "[Access GitHub Repository Here](https://github.com/avanthp/Homework1-.git) "
   ]
  },
  {
   "cell_type": "code",
   "execution_count": 3,
   "id": "55eaf329",
   "metadata": {},
   "outputs": [],
   "source": [
    "#| echo: false\n",
    "# Importing packages \n",
    "import pandas as pd\n",
    "plan_data = pd.read_csv('../../Data/Output/plan_data.csv')\n",
    "\n"
   ]
  },
  {
   "cell_type": "markdown",
   "id": "a2a7239e",
   "metadata": {},
   "source": [
    "1. Table With Count of Plans Under Each Plan Type"
   ]
  },
  {
   "cell_type": "code",
   "execution_count": 4,
   "id": "211e1902",
   "metadata": {},
   "outputs": [
    {
     "name": "stdout",
     "output_type": "stream",
     "text": [
      "                                          Count\n",
      "Plan Type                                      \n",
      "Medicare Prescription Drug Plan          991457\n",
      "Local PPO                                704993\n",
      "HMO/HMOPOS                               479275\n",
      "Employer/Union Only Direct Contract PDP   25630\n",
      "Regional PPO                              17578\n",
      "PFFS                                      13658\n",
      "1876 Cost                                  7157\n",
      "MSA                                        6518\n",
      "Medicare-Medicaid Plan HMO/HMOPOS          4130\n",
      "National PACE                              1216\n",
      "HCPP - 1833 Cost                              0\n",
      "Pilot                                         0\n"
     ]
    }
   ],
   "source": [
    "#| echo: false\n",
    "#Table with count of plans under each type \n",
    "plans_per_type = plan_data.pivot_table(index='Plan Type', values='Plan ID', aggfunc='count')\n",
    "plans_per_type = plans_per_type.sort_values(by='Plan ID', ascending=False)\n",
    "plans_per_type = plans_per_type.rename(columns={'Plan ID': 'Count'})\n",
    "print(plans_per_type) "
   ]
  },
  {
   "cell_type": "markdown",
   "id": "048b24af",
   "metadata": {},
   "source": [
    "2. Updated Table Removing SNP, EGHP, and 800-Series Plans"
   ]
  },
  {
   "cell_type": "code",
   "execution_count": 5,
   "id": "d85f6203",
   "metadata": {},
   "outputs": [
    {
     "name": "stdout",
     "output_type": "stream",
     "text": [
      "                                    Count\n",
      "Plan Type                                \n",
      "Medicare Prescription Drug Plan    269153\n",
      "HMO/HMOPOS                          36588\n",
      "Local PPO                           16728\n",
      "Regional PPO                         8531\n",
      "1876 Cost                            6329\n",
      "PFFS                                 4232\n",
      "Medicare-Medicaid Plan HMO/HMOPOS    4130\n",
      "National PACE                        1216\n",
      "MSA                                   232\n"
     ]
    }
   ],
   "source": [
    "#| echo: false\n",
    "#Removing SNP, EGHP, and 800-series plans from data\n",
    "final_plan_data = plan_data[(plan_data['SNP Plan'] == \"No\") & (plan_data['EGHP'] == \"No\") & ((plan_data['Plan ID'] < 800) | (plan_data['Plan ID'] >= 900))]\n",
    "\n",
    "#Creating table again \n",
    "final_plans_per_type = final_plan_data.pivot_table(index= 'Plan Type', values= 'Plan ID', aggfunc= 'count')\n",
    "final_plans_per_type = final_plans_per_type.sort_values(by='Plan ID', ascending=False)\n",
    "final_plans_per_type = final_plans_per_type.rename(columns={'Plan ID': 'Count'})\n",
    "print(final_plans_per_type)\n"
   ]
  },
  {
   "cell_type": "markdown",
   "id": "835549fa",
   "metadata": {},
   "source": [
    "3. Provide a Table of the Average enrollments for each plan type in 2015 "
   ]
  },
  {
   "cell_type": "code",
   "execution_count": null,
   "id": "3543a7ed",
   "metadata": {},
   "outputs": [
    {
     "name": "stdout",
     "output_type": "stream",
     "text": [
      "                                   count  Average Enrollment\n",
      "Plan Type                                                   \n",
      "Medicare Prescription Drug Plan    60236          311.750481\n",
      "HMO/HMOPOS                          9115          848.737795\n",
      "Local PPO                           6126          310.741267\n",
      "Regional PPO                        4853          201.502988\n",
      "PFFS                                2052          124.583821\n",
      "1876 Cost                           2019          228.126300\n",
      "Medicare-Medicaid Plan HMO/HMOPOS    522          623.963602\n",
      "National PACE                        213          139.976526\n",
      "MSA                                  111          107.792793\n"
     ]
    }
   ],
   "source": [
    "#| echo: false\n",
    "import pandas as pd\n",
    "\n",
    "# Creating table with avg enrollment for each plan type\n",
    "avg_enrollment_per_type = final_plan_data.groupby('Plan Type')['Enrollment'].agg(['count', 'mean'])\n",
    "avg_enrollment_per_type = avg_enrollment_per_type.sort_values(by='count', ascending=False)\n",
    "avg_enrollment_per_type = avg_enrollment_per_type.rename(columns={'mean': 'Average Enrollment'})\n",
    "print(avg_enrollment_per_type)"
   ]
  },
  {
   "cell_type": "code",
   "execution_count": null,
   "id": "0fb73943",
   "metadata": {},
   "outputs": [],
   "source": []
  }
 ],
 "metadata": {
  "kernelspec": {
   "display_name": "Python 3",
   "language": "python",
   "name": "python3"
  },
  "language_info": {
   "codemirror_mode": {
    "name": "ipython",
    "version": 3
   },
   "file_extension": ".py",
   "mimetype": "text/x-python",
   "name": "python",
   "nbconvert_exporter": "python",
   "pygments_lexer": "ipython3",
   "version": "3.9.13"
  }
 },
 "nbformat": 4,
 "nbformat_minor": 5
}
