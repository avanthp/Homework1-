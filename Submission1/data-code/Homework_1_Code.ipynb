{
 "cells": [
  {
   "cell_type": "code",
   "execution_count": 14,
   "metadata": {},
   "outputs": [],
   "source": [
    "import numpy as np\n",
    "import pandas as pd"
   ]
  },
  {
   "cell_type": "code",
   "execution_count": 9,
   "metadata": {},
   "outputs": [
    {
     "name": "stdout",
     "output_type": "stream",
     "text": [
      "Python version: 3.9.13 (main, Aug 25 2022, 18:24:45) \n",
      "[Clang 12.0.0 ]\n"
     ]
    }
   ],
   "source": [
    "import sys\n",
    "print(f\"Python version: {sys.version}\")"
   ]
  },
  {
   "cell_type": "code",
   "execution_count": null,
   "metadata": {},
   "outputs": [
    {
     "name": "stderr",
     "output_type": "stream",
     "text": [
      "/var/folders/2q/wzjp_2kd355b8clhzqwmytb40000gn/T/ipykernel_23050/4136244026.py:9: DtypeWarning: Columns (10) have mixed types. Specify dtype option on import or set low_memory=False.\n",
      "  service_area = pd.read_csv(\"../../Data/MA_Cnty_SA_2015_01.csv\")\n"
     ]
    },
    {
     "data": {
      "text/html": [
       "<div>\n",
       "<style scoped>\n",
       "    .dataframe tbody tr th:only-of-type {\n",
       "        vertical-align: middle;\n",
       "    }\n",
       "\n",
       "    .dataframe tbody tr th {\n",
       "        vertical-align: top;\n",
       "    }\n",
       "\n",
       "    .dataframe thead th {\n",
       "        text-align: right;\n",
       "    }\n",
       "</style>\n",
       "<table border=\"1\" class=\"dataframe\">\n",
       "  <thead>\n",
       "    <tr style=\"text-align: right;\">\n",
       "      <th></th>\n",
       "      <th>Contract ID</th>\n",
       "      <th>Organization Name</th>\n",
       "      <th>Organization Type</th>\n",
       "      <th>Plan Type</th>\n",
       "      <th>Partial</th>\n",
       "      <th>EGHP</th>\n",
       "      <th>SSA</th>\n",
       "      <th>FIPS</th>\n",
       "      <th>County</th>\n",
       "      <th>State</th>\n",
       "      <th>Notes</th>\n",
       "    </tr>\n",
       "  </thead>\n",
       "  <tbody>\n",
       "    <tr>\n",
       "      <th>0</th>\n",
       "      <td>90091</td>\n",
       "      <td>UNITED MINE WORKERS OF AMERICA HLTH &amp; RETIREMENT</td>\n",
       "      <td>HCPP - 1833 Cost</td>\n",
       "      <td>HCPP - 1833 Cost</td>\n",
       "      <td>NaN</td>\n",
       "      <td>NaN</td>\n",
       "      <td>NaN</td>\n",
       "      <td>NaN</td>\n",
       "      <td>NaN</td>\n",
       "      <td>NaN</td>\n",
       "      <td>Covers the entire US, all States and Counties</td>\n",
       "    </tr>\n",
       "    <tr>\n",
       "      <th>1</th>\n",
       "      <td>H0022</td>\n",
       "      <td>BUCKEYE COMMUNITY HEALTH PLAN, INC.</td>\n",
       "      <td>Demo</td>\n",
       "      <td>Medicare-Medicaid Plan HMO/HMOPOS</td>\n",
       "      <td>NaN</td>\n",
       "      <td>NaN</td>\n",
       "      <td>36110.0</td>\n",
       "      <td>39023.0</td>\n",
       "      <td>Clark</td>\n",
       "      <td>OH</td>\n",
       "      <td>NaN</td>\n",
       "    </tr>\n",
       "    <tr>\n",
       "      <th>2</th>\n",
       "      <td>H0022</td>\n",
       "      <td>BUCKEYE COMMUNITY HEALTH PLAN, INC.</td>\n",
       "      <td>Demo</td>\n",
       "      <td>Medicare-Medicaid Plan HMO/HMOPOS</td>\n",
       "      <td>NaN</td>\n",
       "      <td>NaN</td>\n",
       "      <td>36170.0</td>\n",
       "      <td>39035.0</td>\n",
       "      <td>Cuyahoga</td>\n",
       "      <td>OH</td>\n",
       "      <td>NaN</td>\n",
       "    </tr>\n",
       "    <tr>\n",
       "      <th>3</th>\n",
       "      <td>H0022</td>\n",
       "      <td>BUCKEYE COMMUNITY HEALTH PLAN, INC.</td>\n",
       "      <td>Demo</td>\n",
       "      <td>Medicare-Medicaid Plan HMO/HMOPOS</td>\n",
       "      <td>NaN</td>\n",
       "      <td>NaN</td>\n",
       "      <td>36260.0</td>\n",
       "      <td>39051.0</td>\n",
       "      <td>Fulton</td>\n",
       "      <td>OH</td>\n",
       "      <td>NaN</td>\n",
       "    </tr>\n",
       "    <tr>\n",
       "      <th>4</th>\n",
       "      <td>H0022</td>\n",
       "      <td>BUCKEYE COMMUNITY HEALTH PLAN, INC.</td>\n",
       "      <td>Demo</td>\n",
       "      <td>Medicare-Medicaid Plan HMO/HMOPOS</td>\n",
       "      <td>NaN</td>\n",
       "      <td>NaN</td>\n",
       "      <td>36280.0</td>\n",
       "      <td>39055.0</td>\n",
       "      <td>Geauga</td>\n",
       "      <td>OH</td>\n",
       "      <td>NaN</td>\n",
       "    </tr>\n",
       "  </tbody>\n",
       "</table>\n",
       "</div>"
      ],
      "text/plain": [
       "  Contract ID                                 Organization Name  \\\n",
       "0       90091  UNITED MINE WORKERS OF AMERICA HLTH & RETIREMENT   \n",
       "1       H0022               BUCKEYE COMMUNITY HEALTH PLAN, INC.   \n",
       "2       H0022               BUCKEYE COMMUNITY HEALTH PLAN, INC.   \n",
       "3       H0022               BUCKEYE COMMUNITY HEALTH PLAN, INC.   \n",
       "4       H0022               BUCKEYE COMMUNITY HEALTH PLAN, INC.   \n",
       "\n",
       "  Organization Type                          Plan Type Partial EGHP      SSA  \\\n",
       "0  HCPP - 1833 Cost                   HCPP - 1833 Cost     NaN  NaN      NaN   \n",
       "1              Demo  Medicare-Medicaid Plan HMO/HMOPOS     NaN  NaN  36110.0   \n",
       "2              Demo  Medicare-Medicaid Plan HMO/HMOPOS     NaN  NaN  36170.0   \n",
       "3              Demo  Medicare-Medicaid Plan HMO/HMOPOS     NaN  NaN  36260.0   \n",
       "4              Demo  Medicare-Medicaid Plan HMO/HMOPOS     NaN  NaN  36280.0   \n",
       "\n",
       "      FIPS    County State                                          Notes  \n",
       "0      NaN       NaN   NaN  Covers the entire US, all States and Counties  \n",
       "1  39023.0     Clark    OH                                            NaN  \n",
       "2  39035.0  Cuyahoga    OH                                            NaN  \n",
       "3  39051.0    Fulton    OH                                            NaN  \n",
       "4  39055.0    Geauga    OH                                            NaN  "
      ]
     },
     "execution_count": 23,
     "metadata": {},
     "output_type": "execute_result"
    }
   ],
   "source": [
    "#Importing data\n",
    "contract_info = pd.read_csv(\"../../Data/CPSC_Contract_Info_2015_01.csv\", encoding='latin1')\n",
    "contract_info.head()\n",
    "\n",
    "\n",
    "enrollment_info = pd.read_csv(\"../../Data/CPSC_Enrollment_Info_2015_01.csv\")\n",
    "enrollment_info.head()\n",
    "\n",
    "service_area = pd.read_csv(\"../../Data/MA_Cnty_SA_2015_01.csv\")\n",
    "service_area.head()"
   ]
  },
  {
   "cell_type": "code",
   "execution_count": null,
   "metadata": {},
   "outputs": [],
   "source": []
  }
 ],
 "metadata": {
  "kernelspec": {
   "display_name": "Python 3",
   "language": "python",
   "name": "python3"
  },
  "language_info": {
   "codemirror_mode": {
    "name": "ipython",
    "version": 3
   },
   "file_extension": ".py",
   "mimetype": "text/x-python",
   "name": "python",
   "nbconvert_exporter": "python",
   "pygments_lexer": "ipython3",
   "version": "3.9.13"
  }
 },
 "nbformat": 4,
 "nbformat_minor": 4
}
